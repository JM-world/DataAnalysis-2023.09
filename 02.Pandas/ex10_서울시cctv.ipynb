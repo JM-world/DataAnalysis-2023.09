{
 "cells": [
  {
   "cell_type": "markdown",
   "metadata": {},
   "source": [
    "### 2.10 서울시 구별 CCTV 현황 분석\n",
    "- 서울시 CCTV\n",
    "- 서울시 주민등록인구(구별)"
   ]
  },
  {
   "cell_type": "code",
   "execution_count": 2,
   "metadata": {},
   "outputs": [],
   "source": [
    "import numpy as np\n",
    "import pandas as pd"
   ]
  },
  {
   "cell_type": "code",
   "execution_count": 13,
   "metadata": {},
   "outputs": [
    {
     "data": {
      "text/html": [
       "<div>\n",
       "<style scoped>\n",
       "    .dataframe tbody tr th:only-of-type {\n",
       "        vertical-align: middle;\n",
       "    }\n",
       "\n",
       "    .dataframe tbody tr th {\n",
       "        vertical-align: top;\n",
       "    }\n",
       "\n",
       "    .dataframe thead th {\n",
       "        text-align: right;\n",
       "    }\n",
       "</style>\n",
       "<table border=\"1\" class=\"dataframe\">\n",
       "  <thead>\n",
       "    <tr style=\"text-align: right;\">\n",
       "      <th></th>\n",
       "      <th>CCTV댓수</th>\n",
       "      <th>최근증가율</th>\n",
       "    </tr>\n",
       "    <tr>\n",
       "      <th>구분</th>\n",
       "      <th></th>\n",
       "      <th></th>\n",
       "    </tr>\n",
       "  </thead>\n",
       "  <tbody>\n",
       "    <tr>\n",
       "      <th>종로구</th>\n",
       "      <td>1835</td>\n",
       "      <td>28.77</td>\n",
       "    </tr>\n",
       "    <tr>\n",
       "      <th>중구</th>\n",
       "      <td>2584</td>\n",
       "      <td>34.87</td>\n",
       "    </tr>\n",
       "    <tr>\n",
       "      <th>용산구</th>\n",
       "      <td>2970</td>\n",
       "      <td>50.81</td>\n",
       "    </tr>\n",
       "  </tbody>\n",
       "</table>\n",
       "</div>"
      ],
      "text/plain": [
       "     CCTV댓수  최근증가율\n",
       "구분                \n",
       "종로구    1835  28.77\n",
       "중구     2584  34.87\n",
       "용산구    2970  50.81"
      ]
     },
     "execution_count": 13,
     "metadata": {},
     "output_type": "execute_result"
    }
   ],
   "source": [
    "cctv = pd.read_csv('data/서울시 자치구 년도별 CCTV 설치 현황_230630기준.csv', thousands=',', encoding='EUC-KR')\n",
    "cctv.drop(columns=['Unnamed: 0', '총계', '2023년'], inplace=True)\n",
    "cctv = cctv.set_index(['구분'])\n",
    "cctv.drop(['계'], inplace=True)\n",
    "# 결측치를 0으로 대체하고, 타입을 정수로\n",
    "cctv['2014년 이전'] = cctv['2014년 이전'].fillna(0).astype(int)\n",
    "cctv['CCTV댓수'] = cctv.sum(axis=1)\n",
    "cctv['최근증가율'] = (cctv.loc[:, '2020년':'2022년'].sum(axis=1) / cctv['CCTV댓수'] * 100).round(2)\n",
    "cctv.drop(columns=['2014년 이전']+ '2014년\t2015년\t2016년\t2017년\t2018년\t2019년\t2020년\t2021년\t2022년'.split(), inplace=True)\n",
    "cctv.index = cctv.index.str.replace(' ','')\n",
    "cctv.head(3)\n"
   ]
  },
  {
   "cell_type": "markdown",
   "metadata": {},
   "source": [
    "#### 2. 인구 데이터 정리하기"
   ]
  },
  {
   "cell_type": "code",
   "execution_count": 10,
   "metadata": {},
   "outputs": [
    {
     "data": {
      "text/html": [
       "<div>\n",
       "<style scoped>\n",
       "    .dataframe tbody tr th:only-of-type {\n",
       "        vertical-align: middle;\n",
       "    }\n",
       "\n",
       "    .dataframe tbody tr th {\n",
       "        vertical-align: top;\n",
       "    }\n",
       "\n",
       "    .dataframe thead th {\n",
       "        text-align: right;\n",
       "    }\n",
       "</style>\n",
       "<table border=\"1\" class=\"dataframe\">\n",
       "  <thead>\n",
       "    <tr style=\"text-align: right;\">\n",
       "      <th></th>\n",
       "      <th>2023 1/4.1</th>\n",
       "      <th>2023 1/4.2</th>\n",
       "      <th>2023 1/4.3</th>\n",
       "      <th>2023 1/4.5</th>\n",
       "    </tr>\n",
       "    <tr>\n",
       "      <th>동별(2)</th>\n",
       "      <th></th>\n",
       "      <th></th>\n",
       "      <th></th>\n",
       "      <th></th>\n",
       "    </tr>\n",
       "  </thead>\n",
       "  <tbody>\n",
       "    <tr>\n",
       "      <th>강남구</th>\n",
       "      <td>537817</td>\n",
       "      <td>532798</td>\n",
       "      <td>5019</td>\n",
       "      <td>83097</td>\n",
       "    </tr>\n",
       "    <tr>\n",
       "      <th>송파구</th>\n",
       "      <td>663704</td>\n",
       "      <td>658006</td>\n",
       "      <td>5698</td>\n",
       "      <td>105161</td>\n",
       "    </tr>\n",
       "    <tr>\n",
       "      <th>강동구</th>\n",
       "      <td>464027</td>\n",
       "      <td>459982</td>\n",
       "      <td>4045</td>\n",
       "      <td>79706</td>\n",
       "    </tr>\n",
       "  </tbody>\n",
       "</table>\n",
       "</div>"
      ],
      "text/plain": [
       "      2023 1/4.1 2023 1/4.2 2023 1/4.3 2023 1/4.5\n",
       "동별(2)                                            \n",
       "강남구       537817     532798       5019      83097\n",
       "송파구       663704     658006       5698     105161\n",
       "강동구       464027     459982       4045      79706"
      ]
     },
     "execution_count": 10,
     "metadata": {},
     "output_type": "execute_result"
    }
   ],
   "source": [
    "jumin = pd.read_csv('data/서울주민등록구별.csv', thousands=',', encoding='UTF-8')\n",
    "jumin = jumin.loc[:, '동별(2)':'2023 1/4.5']\n",
    "del jumin['2023 1/4.4']\n",
    "del jumin['2023 1/4']\n",
    "jumin.drop(index=[0,1], inplace=True)\n",
    "jumin = jumin.set_index('동별(2)')\n",
    "jumin.tail(3)"
   ]
  },
  {
   "cell_type": "code",
   "execution_count": 16,
   "metadata": {},
   "outputs": [
    {
     "data": {
      "text/html": [
       "<div>\n",
       "<style scoped>\n",
       "    .dataframe tbody tr th:only-of-type {\n",
       "        vertical-align: middle;\n",
       "    }\n",
       "\n",
       "    .dataframe tbody tr th {\n",
       "        vertical-align: top;\n",
       "    }\n",
       "\n",
       "    .dataframe thead th {\n",
       "        text-align: right;\n",
       "    }\n",
       "</style>\n",
       "<table border=\"1\" class=\"dataframe\">\n",
       "  <thead>\n",
       "    <tr style=\"text-align: right;\">\n",
       "      <th></th>\n",
       "      <th>CCTV댓수</th>\n",
       "      <th>최근증가율</th>\n",
       "      <th>인구수</th>\n",
       "      <th>내국인</th>\n",
       "      <th>외국인</th>\n",
       "      <th>고령자</th>\n",
       "      <th>외국인비율</th>\n",
       "      <th>고령자비율</th>\n",
       "    </tr>\n",
       "    <tr>\n",
       "      <th>구분</th>\n",
       "      <th></th>\n",
       "      <th></th>\n",
       "      <th></th>\n",
       "      <th></th>\n",
       "      <th></th>\n",
       "      <th></th>\n",
       "      <th></th>\n",
       "      <th></th>\n",
       "    </tr>\n",
       "  </thead>\n",
       "  <tbody>\n",
       "    <tr>\n",
       "      <th>종로구</th>\n",
       "      <td>1835</td>\n",
       "      <td>28.77</td>\n",
       "      <td>152212</td>\n",
       "      <td>141060</td>\n",
       "      <td>11152</td>\n",
       "      <td>28265</td>\n",
       "      <td>7.33</td>\n",
       "      <td>18.57</td>\n",
       "    </tr>\n",
       "    <tr>\n",
       "      <th>중구</th>\n",
       "      <td>2584</td>\n",
       "      <td>34.87</td>\n",
       "      <td>131390</td>\n",
       "      <td>120963</td>\n",
       "      <td>10427</td>\n",
       "      <td>25353</td>\n",
       "      <td>7.94</td>\n",
       "      <td>19.30</td>\n",
       "    </tr>\n",
       "    <tr>\n",
       "      <th>용산구</th>\n",
       "      <td>2970</td>\n",
       "      <td>50.81</td>\n",
       "      <td>232482</td>\n",
       "      <td>217756</td>\n",
       "      <td>14726</td>\n",
       "      <td>39478</td>\n",
       "      <td>6.33</td>\n",
       "      <td>16.98</td>\n",
       "    </tr>\n",
       "  </tbody>\n",
       "</table>\n",
       "</div>"
      ],
      "text/plain": [
       "     CCTV댓수  최근증가율     인구수     내국인    외국인    고령자  외국인비율  고령자비율\n",
       "구분                                                            \n",
       "종로구    1835  28.77  152212  141060  11152  28265   7.33  18.57\n",
       "중구     2584  34.87  131390  120963  10427  25353   7.94  19.30\n",
       "용산구    2970  50.81  232482  217756  14726  39478   6.33  16.98"
      ]
     },
     "execution_count": 16,
     "metadata": {},
     "output_type": "execute_result"
    }
   ],
   "source": [
    "cctv['인구수'] = jumin['2023 1/4.1']\n",
    "cctv['내국인'] = jumin['2023 1/4.2']\n",
    "cctv['외국인'] = jumin['2023 1/4.3']\n",
    "cctv['고령자'] = jumin['2023 1/4.5']\n",
    "cctv['외국인비율'] = (cctv['외국인'].astype(int) / cctv['인구수'].astype(int) * 100).round(2)\n",
    "cctv['고령자비율'] = (cctv['고령자'].astype(int) / cctv['인구수'].astype(int) * 100).round(2)\n",
    "cctv.head(3)"
   ]
  },
  {
   "cell_type": "code",
   "execution_count": 17,
   "metadata": {},
   "outputs": [],
   "source": [
    "cctv.to_csv('data/서울시_구별_CCTV_인구_현황.csv')"
   ]
  },
  {
   "cell_type": "code",
   "execution_count": null,
   "metadata": {},
   "outputs": [],
   "source": []
  }
 ],
 "metadata": {
  "kernelspec": {
   "display_name": "base",
   "language": "python",
   "name": "python3"
  },
  "language_info": {
   "codemirror_mode": {
    "name": "ipython",
    "version": 3
   },
   "file_extension": ".py",
   "mimetype": "text/x-python",
   "name": "python",
   "nbconvert_exporter": "python",
   "pygments_lexer": "ipython3",
   "version": "3.11.4"
  },
  "orig_nbformat": 4
 },
 "nbformat": 4,
 "nbformat_minor": 2
}
