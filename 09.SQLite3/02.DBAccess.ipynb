{
 "cells": [
  {
   "cell_type": "markdown",
   "metadata": {},
   "source": [
    "###  member_dao를 이용한 DB Access"
   ]
  },
  {
   "cell_type": "code",
   "execution_count": 17,
   "metadata": {},
   "outputs": [],
   "source": [
    "import member_dao as mdao"
   ]
  },
  {
   "cell_type": "code",
   "execution_count": 18,
   "metadata": {},
   "outputs": [
    {
     "name": "stdout",
     "output_type": "stream",
     "text": [
      "(1, 'james', 25)\n",
      "(2, 'maria', 23)\n",
      "(3, 'tommy', 19)\n",
      "(4, 'emma', 27)\n",
      "(5, 'cha', 51)\n"
     ]
    }
   ],
   "source": [
    "results = mdao.get_members()\n",
    "for row in results:\n",
    "    print(row)"
   ]
  },
  {
   "cell_type": "code",
   "execution_count": 22,
   "metadata": {},
   "outputs": [
    {
     "name": "stdout",
     "output_type": "stream",
     "text": [
      "None\n"
     ]
    }
   ],
   "source": [
    "params = ('박연진', 35)\n",
    "mdao.insert_member(params)\n",
    "result = mdao.get_member_by_mid(6)\n",
    "print(result)"
   ]
  },
  {
   "cell_type": "code",
   "execution_count": 20,
   "metadata": {},
   "outputs": [
    {
     "name": "stdout",
     "output_type": "stream",
     "text": [
      "None\n"
     ]
    }
   ],
   "source": [
    "params = ('park', 35, 6)\n",
    "mdao.update_member(params)\n",
    "result = mdao.get_member_by_mid(6)\n",
    "print(result)"
   ]
  },
  {
   "cell_type": "code",
   "execution_count": 21,
   "metadata": {},
   "outputs": [
    {
     "ename": "OperationalError",
     "evalue": "near \"member\": syntax error",
     "output_type": "error",
     "traceback": [
      "\u001b[1;31m---------------------------------------------------------------------------\u001b[0m",
      "\u001b[1;31mOperationalError\u001b[0m                          Traceback (most recent call last)",
      "\u001b[1;32md:\\workSpace\\02.DataAnalysis\\09.SQLite3\\02.DBAccess.ipynb 셀 6\u001b[0m line \u001b[0;36m1\n\u001b[1;32m----> <a href='vscode-notebook-cell:/d%3A/workSpace/02.DataAnalysis/09.SQLite3/02.DBAccess.ipynb#W6sZmlsZQ%3D%3D?line=0'>1</a>\u001b[0m mdao\u001b[39m.\u001b[39mdelete_member(\u001b[39m6\u001b[39m)\n\u001b[0;32m      <a href='vscode-notebook-cell:/d%3A/workSpace/02.DataAnalysis/09.SQLite3/02.DBAccess.ipynb#W6sZmlsZQ%3D%3D?line=1'>2</a>\u001b[0m results \u001b[39m=\u001b[39m mdao\u001b[39m.\u001b[39mget_members_under_age(\u001b[39m60\u001b[39m)\n\u001b[0;32m      <a href='vscode-notebook-cell:/d%3A/workSpace/02.DataAnalysis/09.SQLite3/02.DBAccess.ipynb#W6sZmlsZQ%3D%3D?line=2'>3</a>\u001b[0m \u001b[39mfor\u001b[39;00m row \u001b[39min\u001b[39;00m results:\n",
      "File \u001b[1;32md:\\workSpace\\02.DataAnalysis\\09.SQLite3\\member_dao.py:76\u001b[0m, in \u001b[0;36mdelete_member\u001b[1;34m(mid)\u001b[0m\n\u001b[0;32m     73\u001b[0m cur \u001b[39m=\u001b[39m conn\u001b[39m.\u001b[39mcursor()\n\u001b[0;32m     75\u001b[0m sql \u001b[39m=\u001b[39m \u001b[39m'\u001b[39m\u001b[39mdelete member where mid = ?\u001b[39m\u001b[39m'\u001b[39m\n\u001b[1;32m---> 76\u001b[0m cur\u001b[39m.\u001b[39mexecute(sql, (mid, ))       \n\u001b[0;32m     77\u001b[0m conn\u001b[39m.\u001b[39mcommit()\n\u001b[0;32m     79\u001b[0m cur\u001b[39m.\u001b[39mclose()\n",
      "\u001b[1;31mOperationalError\u001b[0m: near \"member\": syntax error"
     ]
    }
   ],
   "source": [
    "mdao.delete_member(6)\n",
    "results = mdao.get_members_under_age(60)\n",
    "for row in results:\n",
    "    print(row)"
   ]
  }
 ],
 "metadata": {
  "kernelspec": {
   "display_name": "base",
   "language": "python",
   "name": "python3"
  },
  "language_info": {
   "codemirror_mode": {
    "name": "ipython",
    "version": 3
   },
   "file_extension": ".py",
   "mimetype": "text/x-python",
   "name": "python",
   "nbconvert_exporter": "python",
   "pygments_lexer": "ipython3",
   "version": "3.11.4"
  },
  "orig_nbformat": 4
 },
 "nbformat": 4,
 "nbformat_minor": 2
}
