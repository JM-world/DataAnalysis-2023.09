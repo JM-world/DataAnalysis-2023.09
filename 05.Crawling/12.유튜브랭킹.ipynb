{
 "cells": [
  {
   "cell_type": "markdown",
   "metadata": {},
   "source": [
    "## YouTube Ranking"
   ]
  },
  {
   "cell_type": "code",
   "execution_count": 1,
   "metadata": {},
   "outputs": [],
   "source": [
    "import requests, time\n",
    "import pandas as pd \n",
    "from bs4 import BeautifulSoup\n",
    "from selenium import webdriver"
   ]
  },
  {
   "cell_type": "markdown",
   "metadata": {},
   "source": [
    "- Step 1, 2"
   ]
  },
  {
   "cell_type": "code",
   "execution_count": 2,
   "metadata": {},
   "outputs": [],
   "source": [
    "url = 'https://youtube-rank.com/board/bbs/board.php?bo_table=youtube&page=1'\n",
    "res = requests.get(url)\n",
    "soup = BeautifulSoup(res.text, 'html.parser')"
   ]
  },
  {
   "cell_type": "code",
   "execution_count": 3,
   "metadata": {},
   "outputs": [
    {
     "data": {
      "text/plain": [
       "0"
      ]
     },
     "execution_count": 3,
     "metadata": {},
     "output_type": "execute_result"
    }
   ],
   "source": [
    "trs = soup.select('tr.aos-init')\n",
    "len(trs)"
   ]
  },
  {
   "cell_type": "code",
   "execution_count": 6,
   "metadata": {},
   "outputs": [],
   "source": [
    "driver = webdriver.Chrome()\n",
    "driver.get(url)"
   ]
  },
  {
   "cell_type": "code",
   "execution_count": 7,
   "metadata": {},
   "outputs": [
    {
     "data": {
      "text/plain": [
       "100"
      ]
     },
     "execution_count": 7,
     "metadata": {},
     "output_type": "execute_result"
    }
   ],
   "source": [
    "soup = BeautifulSoup(driver.page_source, 'html.parser')\n",
    "trs = soup.select('tr.aos-init')\n",
    "len(trs)"
   ]
  },
  {
   "cell_type": "markdown",
   "metadata": {},
   "source": [
    "- Step 3"
   ]
  },
  {
   "cell_type": "code",
   "execution_count": 8,
   "metadata": {},
   "outputs": [
    {
     "data": {
      "text/plain": [
       "'1'"
      ]
     },
     "execution_count": 8,
     "metadata": {},
     "output_type": "execute_result"
    }
   ],
   "source": [
    "tr = trs[0]\n",
    "rank = tr.select_one('.rank').get_text().strip()\n",
    "rank"
   ]
  },
  {
   "cell_type": "code",
   "execution_count": 9,
   "metadata": {},
   "outputs": [
    {
     "data": {
      "text/plain": [
       "'음악/댄스/가수'"
      ]
     },
     "execution_count": 9,
     "metadata": {},
     "output_type": "execute_result"
    }
   ],
   "source": [
    "category = tr.select_one('.category').get_text().strip()[1:-1]      # '[음악/댄스/가수]'\n",
    "category"
   ]
  },
  {
   "cell_type": "code",
   "execution_count": 10,
   "metadata": {},
   "outputs": [
    {
     "data": {
      "text/plain": [
       "'BLACKPINK'"
      ]
     },
     "execution_count": 10,
     "metadata": {},
     "output_type": "execute_result"
    }
   ],
   "source": [
    "channel = tr.select_one('.subject > h1 > a').get_text().strip()\n",
    "channel"
   ]
  },
  {
   "cell_type": "code",
   "execution_count": 11,
   "metadata": {},
   "outputs": [
    {
     "data": {
      "text/plain": [
       "'9140만'"
      ]
     },
     "execution_count": 11,
     "metadata": {},
     "output_type": "execute_result"
    }
   ],
   "source": [
    "subscriber = tr.select_one('.subscriber_cnt').get_text().strip()\n",
    "subscriber"
   ]
  },
  {
   "cell_type": "code",
   "execution_count": 12,
   "metadata": {},
   "outputs": [
    {
     "data": {
      "text/plain": [
       "('332억2751만', '571개')"
      ]
     },
     "execution_count": 12,
     "metadata": {},
     "output_type": "execute_result"
    }
   ],
   "source": [
    "view = tr.select_one('.view_cnt').get_text().strip()\n",
    "video = tr.select_one('.video_cnt').get_text().strip()\n",
    "view, video"
   ]
  },
  {
   "cell_type": "code",
   "execution_count": 13,
   "metadata": {},
   "outputs": [],
   "source": [
    "# 숫자로 바꿔주는 함수\n",
    "def convert(s):\n",
    "    s = s.replace('억','').replace('개','').replace(',','').replace('만','0000')\n",
    "    return int(s)"
   ]
  },
  {
   "cell_type": "code",
   "execution_count": 14,
   "metadata": {},
   "outputs": [
    {
     "data": {
      "text/plain": [
       "33227510000"
      ]
     },
     "execution_count": 14,
     "metadata": {},
     "output_type": "execute_result"
    }
   ],
   "source": [
    "convert('332억2751만')"
   ]
  },
  {
   "cell_type": "markdown",
   "metadata": {},
   "source": [
    "- Step 4"
   ]
  },
  {
   "cell_type": "code",
   "execution_count": 15,
   "metadata": {},
   "outputs": [],
   "source": [
    "data = []\n",
    "for tr in trs:\n",
    "    rank = int(tr.select_one('.rank').get_text().strip())\n",
    "    category = tr.select_one('.category').get_text().strip()[1:-1]\n",
    "    channel = tr.select_one('.subject > h1 > a').get_text().strip()\n",
    "    subscriber = convert(tr.select_one('.subscriber_cnt').get_text().strip())\n",
    "    view = convert(tr.select_one('.view_cnt').get_text().strip())\n",
    "    video = convert(tr.select_one('.video_cnt').get_text().strip())\n",
    "    data.append({'순위':rank, '채널명':channel, '카테고리':category,\n",
    "                 '구독자수':subscriber, '조회수':view, '비디오수':video})"
   ]
  },
  {
   "cell_type": "markdown",
   "metadata": {},
   "source": [
    "- Step 5. 에러 수정"
   ]
  },
  {
   "cell_type": "code",
   "execution_count": 16,
   "metadata": {},
   "outputs": [],
   "source": [
    "try:\n",
    "    for index, tr in enumerate(trs):\n",
    "        rank = int(tr.select_one('.rank').get_text().strip())\n",
    "        category = tr.select_one('.category').get_text().strip()[1:-1]\n",
    "        channel = tr.select_one('.subject > h1 > a').get_text().strip()\n",
    "        subscriber = convert(tr.select_one('.subscriber_cnt').get_text().strip())\n",
    "        view = convert(tr.select_one('.view_cnt').get_text().strip())\n",
    "        video = convert(tr.select_one('.video_cnt').get_text().strip())\n",
    "except:\n",
    "    print(index + 1)        # 순위가 출력되게"
   ]
  },
  {
   "cell_type": "code",
   "execution_count": 17,
   "metadata": {},
   "outputs": [],
   "source": [
    "data = []\n",
    "for tr in trs:\n",
    "    rank = int(tr.select_one('.rank').get_text().strip())\n",
    "    category = tr.select_one('.category').get_text().strip()[1:-1]\n",
    "    channel = tr.select_one('.subject > h1 > a').get_text().strip()\n",
    "    subscriber = convert(tr.select_one('.subscriber_cnt').get_text().strip())\n",
    "    view = convert(tr.select_one('.view_cnt').get_text().strip())\n",
    "    video = convert(tr.select_one('.video_cnt').get_text().strip())\n",
    "    data.append({'순위':rank, '채널명':channel, '카테고리':category,\n",
    "                 '구독자수':subscriber, '조회수':view, '비디오수':video})"
   ]
  },
  {
   "cell_type": "markdown",
   "metadata": {},
   "source": [
    "- Step 6"
   ]
  },
  {
   "cell_type": "code",
   "execution_count": 18,
   "metadata": {},
   "outputs": [],
   "source": [
    "data = []\n",
    "for page in range(1,11):\n",
    "    url = f'https://youtube-rank.com/board/bbs/board.php?bo_table=youtube&page={page}'\n",
    "    driver.get(url)\n",
    "    time.sleep(2)\n",
    "    soup = BeautifulSoup(driver.page_source, 'html.parser')\n",
    "    trs = soup.select('tr.aos-init')\n",
    "\n",
    "    for tr in trs:\n",
    "        rank = int(tr.select_one('.rank').get_text().strip())\n",
    "        category = tr.select_one('.category').get_text().strip()[1:-1]\n",
    "        channel = tr.select_one('.subject > h1 > a').get_text().strip()\n",
    "        subscriber = convert(tr.select_one('.subscriber_cnt').get_text().strip())\n",
    "        view = convert(tr.select_one('.view_cnt').get_text().strip())\n",
    "        video = convert(tr.select_one('.video_cnt').get_text().strip())\n",
    "        data.append({'순위':rank, '채널명':channel, '카테고리':category,\n",
    "                    '구독자수':subscriber, '조회수':view, '비디오수':video})\n",
    "        \n",
    "driver.close()"
   ]
  },
  {
   "cell_type": "markdown",
   "metadata": {},
   "source": [
    "- Step 7"
   ]
  },
  {
   "cell_type": "code",
   "execution_count": 19,
   "metadata": {},
   "outputs": [
    {
     "data": {
      "text/html": [
       "<div>\n",
       "<style scoped>\n",
       "    .dataframe tbody tr th:only-of-type {\n",
       "        vertical-align: middle;\n",
       "    }\n",
       "\n",
       "    .dataframe tbody tr th {\n",
       "        vertical-align: top;\n",
       "    }\n",
       "\n",
       "    .dataframe thead th {\n",
       "        text-align: right;\n",
       "    }\n",
       "</style>\n",
       "<table border=\"1\" class=\"dataframe\">\n",
       "  <thead>\n",
       "    <tr style=\"text-align: right;\">\n",
       "      <th></th>\n",
       "      <th>순위</th>\n",
       "      <th>채널명</th>\n",
       "      <th>카테고리</th>\n",
       "      <th>구독자수</th>\n",
       "      <th>조회수</th>\n",
       "      <th>비디오수</th>\n",
       "    </tr>\n",
       "  </thead>\n",
       "  <tbody>\n",
       "    <tr>\n",
       "      <th>0</th>\n",
       "      <td>1</td>\n",
       "      <td>BLACKPINK</td>\n",
       "      <td>음악/댄스/가수</td>\n",
       "      <td>91400000</td>\n",
       "      <td>33227510000</td>\n",
       "      <td>571</td>\n",
       "    </tr>\n",
       "    <tr>\n",
       "      <th>1</th>\n",
       "      <td>2</td>\n",
       "      <td>BANGTANTV</td>\n",
       "      <td>음악/댄스/가수</td>\n",
       "      <td>76400000</td>\n",
       "      <td>21360690000</td>\n",
       "      <td>2336</td>\n",
       "    </tr>\n",
       "    <tr>\n",
       "      <th>2</th>\n",
       "      <td>3</td>\n",
       "      <td>HYBE LABELS</td>\n",
       "      <td>음악/댄스/가수</td>\n",
       "      <td>72700000</td>\n",
       "      <td>30124270000</td>\n",
       "      <td>1435</td>\n",
       "    </tr>\n",
       "    <tr>\n",
       "      <th>3</th>\n",
       "      <td>4</td>\n",
       "      <td>SMTOWN</td>\n",
       "      <td>음악/댄스/가수</td>\n",
       "      <td>32100000</td>\n",
       "      <td>27903520000</td>\n",
       "      <td>4229</td>\n",
       "    </tr>\n",
       "    <tr>\n",
       "      <th>4</th>\n",
       "      <td>5</td>\n",
       "      <td>JYP Entertainment</td>\n",
       "      <td>음악/댄스/가수</td>\n",
       "      <td>27900000</td>\n",
       "      <td>20584660000</td>\n",
       "      <td>1843</td>\n",
       "    </tr>\n",
       "  </tbody>\n",
       "</table>\n",
       "</div>"
      ],
      "text/plain": [
       "   순위                채널명      카테고리      구독자수          조회수  비디오수\n",
       "0   1          BLACKPINK  음악/댄스/가수  91400000  33227510000   571\n",
       "1   2          BANGTANTV  음악/댄스/가수  76400000  21360690000  2336\n",
       "2   3        HYBE LABELS  음악/댄스/가수  72700000  30124270000  1435\n",
       "3   4             SMTOWN  음악/댄스/가수  32100000  27903520000  4229\n",
       "4   5  JYP Entertainment  음악/댄스/가수  27900000  20584660000  1843"
      ]
     },
     "execution_count": 19,
     "metadata": {},
     "output_type": "execute_result"
    }
   ],
   "source": [
    "df = pd.DataFrame(data)\n",
    "df.head()"
   ]
  },
  {
   "cell_type": "code",
   "execution_count": 20,
   "metadata": {},
   "outputs": [
    {
     "data": {
      "text/html": [
       "<div>\n",
       "<style scoped>\n",
       "    .dataframe tbody tr th:only-of-type {\n",
       "        vertical-align: middle;\n",
       "    }\n",
       "\n",
       "    .dataframe tbody tr th {\n",
       "        vertical-align: top;\n",
       "    }\n",
       "\n",
       "    .dataframe thead th {\n",
       "        text-align: right;\n",
       "    }\n",
       "</style>\n",
       "<table border=\"1\" class=\"dataframe\">\n",
       "  <thead>\n",
       "    <tr style=\"text-align: right;\">\n",
       "      <th></th>\n",
       "      <th>순위</th>\n",
       "      <th>채널명</th>\n",
       "      <th>카테고리</th>\n",
       "      <th>구독자수</th>\n",
       "      <th>조회수</th>\n",
       "      <th>비디오수</th>\n",
       "    </tr>\n",
       "  </thead>\n",
       "  <tbody>\n",
       "    <tr>\n",
       "      <th>995</th>\n",
       "      <td>994</td>\n",
       "      <td>솜이네 곰이탱이여우</td>\n",
       "      <td>애완/반려동물</td>\n",
       "      <td>770000</td>\n",
       "      <td>531880000</td>\n",
       "      <td>1806</td>\n",
       "    </tr>\n",
       "    <tr>\n",
       "      <th>996</th>\n",
       "      <td>1000</td>\n",
       "      <td>빅페이스 BIGFACE</td>\n",
       "      <td>미분류</td>\n",
       "      <td>770000</td>\n",
       "      <td>184320000</td>\n",
       "      <td>143</td>\n",
       "    </tr>\n",
       "    <tr>\n",
       "      <th>997</th>\n",
       "      <td>999</td>\n",
       "      <td>tweety 트위티</td>\n",
       "      <td>TV/방송</td>\n",
       "      <td>770000</td>\n",
       "      <td>152420000</td>\n",
       "      <td>275</td>\n",
       "    </tr>\n",
       "    <tr>\n",
       "      <th>998</th>\n",
       "      <td>998</td>\n",
       "      <td>UTZI웃지</td>\n",
       "      <td>영화/만화/애니</td>\n",
       "      <td>770000</td>\n",
       "      <td>6500000</td>\n",
       "      <td>13</td>\n",
       "    </tr>\n",
       "    <tr>\n",
       "      <th>999</th>\n",
       "      <td>997</td>\n",
       "      <td>뉴스데일리베스트</td>\n",
       "      <td>뉴스/정치/사회</td>\n",
       "      <td>770000</td>\n",
       "      <td>248950000</td>\n",
       "      <td>2964</td>\n",
       "    </tr>\n",
       "  </tbody>\n",
       "</table>\n",
       "</div>"
      ],
      "text/plain": [
       "       순위           채널명      카테고리    구독자수        조회수  비디오수\n",
       "995   994    솜이네 곰이탱이여우   애완/반려동물  770000  531880000  1806\n",
       "996  1000  빅페이스 BIGFACE       미분류  770000  184320000   143\n",
       "997   999    tweety 트위티     TV/방송  770000  152420000   275\n",
       "998   998        UTZI웃지  영화/만화/애니  770000    6500000    13\n",
       "999   997      뉴스데일리베스트  뉴스/정치/사회  770000  248950000  2964"
      ]
     },
     "execution_count": 20,
     "metadata": {},
     "output_type": "execute_result"
    }
   ],
   "source": [
    "df.to_csv('data/유튜브랭킹_20230919.csv', index=False)\n",
    "pd.read_csv('data/유튜브랭킹_20230919.csv').tail()"
   ]
  },
  {
   "cell_type": "code",
   "execution_count": null,
   "metadata": {},
   "outputs": [],
   "source": []
  }
 ],
 "metadata": {
  "kernelspec": {
   "display_name": "base",
   "language": "python",
   "name": "python3"
  },
  "language_info": {
   "codemirror_mode": {
    "name": "ipython",
    "version": 3
   },
   "file_extension": ".py",
   "mimetype": "text/x-python",
   "name": "python",
   "nbconvert_exporter": "python",
   "pygments_lexer": "ipython3",
   "version": "3.11.4"
  },
  "orig_nbformat": 4
 },
 "nbformat": 4,
 "nbformat_minor": 2
}
